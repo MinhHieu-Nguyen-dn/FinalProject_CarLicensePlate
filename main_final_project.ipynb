{
 "cells": [
  {
   "cell_type": "markdown",
   "metadata": {},
   "source": [
    "### Import all necessary packages"
   ]
  },
  {
   "cell_type": "code",
   "execution_count": 1,
   "metadata": {},
   "outputs": [],
   "source": [
    "import numpy as np\n",
    "import cv2\n",
    "from PIL import Image\n",
    "import pytesseract as tess\n",
    "import pandas as pd\n",
    "from skimage.io import imread, imshow\n",
    "from skimage.segmentation import clear_border\n",
    "import imutils\n",
    "import os"
   ]
  },
  {
   "cell_type": "code",
   "execution_count": 2,
   "metadata": {},
   "outputs": [],
   "source": [
    "from functions import *"
   ]
  },
  {
   "cell_type": "code",
   "execution_count": 3,
   "metadata": {},
   "outputs": [
    {
     "name": "stdout",
     "output_type": "stream",
     "text": [
      "Functions are ready!\n"
     ]
    }
   ],
   "source": [
    "test_func()"
   ]
  },
  {
   "cell_type": "markdown",
   "metadata": {},
   "source": [
    "### Question 1:  Rename and list all files of the dataset into files_list.csv"
   ]
  },
  {
   "cell_type": "code",
   "execution_count": 4,
   "metadata": {},
   "outputs": [],
   "source": [
    "filenames = os.listdir('./dataset')\n",
    "    \n",
    "ques1 = pd.DataFrame(columns=['Filename'])\n",
    "ques1['Filename'] = filenames\n",
    "ques1.to_csv('files_list.csv')"
   ]
  },
  {
   "cell_type": "markdown",
   "metadata": {},
   "source": [
    "### Question 2: From the original images, create a new image with highlighted license plate's characters and save into a folder."
   ]
  },
  {
   "cell_type": "code",
   "execution_count": 5,
   "metadata": {},
   "outputs": [],
   "source": [
    "create_new_folder('blackhat_morph')"
   ]
  },
  {
   "cell_type": "code",
   "execution_count": 6,
   "metadata": {},
   "outputs": [],
   "source": [
    "read_path = './dataset/'\n",
    "save_path = './blackhat_morph/'\n",
    "blackhat_list = []\n",
    "\n",
    "for fi in filenames:\n",
    "    path1 = read_path + fi\n",
    "    image = imread(path1)\n",
    "    gray = cv2.cvtColor(image, cv2.COLOR_BGR2GRAY)\n",
    "    _, blackhat = blackhat_morph(gray)\n",
    "    blackhat_list.append((fi, blackhat))\n",
    "    \n",
    "save_files(save_path, blackhat_list)"
   ]
  },
  {
   "cell_type": "markdown",
   "metadata": {},
   "source": [
    "### Question 3: Locate potential regions (white regions) of the license plate in the image and save into a folder."
   ]
  },
  {
   "cell_type": "code",
   "execution_count": 7,
   "metadata": {},
   "outputs": [],
   "source": [
    "create_new_folder('potential_regions')"
   ]
  },
  {
   "cell_type": "code",
   "execution_count": 8,
   "metadata": {},
   "outputs": [],
   "source": [
    "read_path = './dataset/'\n",
    "save_path = './potential_regions/'\n",
    "regions_list = []\n",
    "\n",
    "for fi in filenames:\n",
    "    path1 = read_path + fi\n",
    "    image = imread(path1)\n",
    "    gray = cv2.cvtColor(image, cv2.COLOR_BGR2GRAY)\n",
    "    rectKern, blackhat = blackhat_morph(gray)\n",
    "    \n",
    "    light_mask = find_light_mask(gray)\n",
    "    \n",
    "    regions_img = find_potential_regions(blackhat, rectKern, light_mask)\n",
    "    regions_list.append((fi, regions_img))\n",
    "    \n",
    "save_files(save_path, regions_list)"
   ]
  },
  {
   "cell_type": "markdown",
   "metadata": {},
   "source": [
    "### Question 4: Identify the region that contain the license plate by applying aspect ratio (width/height) of each region. Draw contours on that region in the original image and save into a folder."
   ]
  },
  {
   "cell_type": "code",
   "execution_count": 9,
   "metadata": {},
   "outputs": [],
   "source": [
    "create_new_folder('drawn_CLP_cnts')"
   ]
  },
  {
   "cell_type": "code",
   "execution_count": 10,
   "metadata": {},
   "outputs": [],
   "source": [
    "read_path = './dataset/'\n",
    "save_path = './drawn_CLP_cnts/'\n",
    "imgs_w_cnt_list = []\n",
    "\n",
    "for fi in filenames:\n",
    "    path1 = read_path + fi\n",
    "    image = imread(path1)\n",
    "    gray = cv2.cvtColor(image, cv2.COLOR_BGR2GRAY)\n",
    "    rectKern, blackhat = blackhat_morph(gray)\n",
    "    \n",
    "    light_mask = find_light_mask(gray)\n",
    "    \n",
    "    regions_img = find_potential_regions(blackhat, rectKern, light_mask)\n",
    "    \n",
    "    cnts = potential_cnts(regions_img, keep=10)\n",
    "    choose_and_draw(image, cnts)\n",
    "    imgs_w_cnt_list.append((fi, image))\n",
    "    \n",
    "save_files(save_path, imgs_w_cnt_list)"
   ]
  },
  {
   "cell_type": "markdown",
   "metadata": {},
   "source": [
    "### Question 5: Crop the license plate (binary format for tesseracts reading) from the original image and save into a folder."
   ]
  },
  {
   "cell_type": "code",
   "execution_count": 11,
   "metadata": {},
   "outputs": [],
   "source": [
    "create_new_folder('cropped_CLP')"
   ]
  },
  {
   "cell_type": "code",
   "execution_count": 12,
   "metadata": {},
   "outputs": [],
   "source": [
    "read_path = './dataset/'\n",
    "save_path = './cropped_CLP/'\n",
    "cropped_list = []\n",
    "\n",
    "for fi in filenames:\n",
    "    path1 = read_path + fi\n",
    "    image = imread(path1)\n",
    "    gray = cv2.cvtColor(image, cv2.COLOR_BGR2GRAY)\n",
    "    rectKern, blackhat = blackhat_morph(gray)\n",
    "    \n",
    "    light_mask = find_light_mask(gray)\n",
    "    \n",
    "    regions_img = find_potential_regions(blackhat, rectKern, light_mask)\n",
    "    \n",
    "    cnts = potential_cnts(regions_img, keep=10)\n",
    "    \n",
    "    LP_bitwise = crop_license_plate(gray, cnts)\n",
    "    cropped_list.append((fi, LP_bitwise))\n",
    "    \n",
    "save_files(save_path, cropped_list)"
   ]
  },
  {
   "cell_type": "markdown",
   "metadata": {},
   "source": [
    "### Question 6: Read the characters from cropped-license-plate images using Tesseracts-OCR (Optical Character Recognition) and save Filename - LicenseChars into a csv file."
   ]
  },
  {
   "cell_type": "code",
   "execution_count": 13,
   "metadata": {},
   "outputs": [],
   "source": [
    "psm = 7\n",
    "alphanumeric = \"ABCDEFGHIJKLMNOPQRSTUVWXYZ0123456789\"\n",
    "options = \"-c tessedit_char_whitelist={}\".format(alphanumeric)\n",
    "options += \" --psm {}\".format(psm)\n",
    "\n",
    "tess.pytesseract.tesseract_cmd = 'C:/Program Files/Tesseract-OCR/tesseract.exe'\n",
    "\n",
    "license_chars = []\n",
    "\n",
    "for i in cropped_list:\n",
    "    LP_text = None\n",
    "    LP = i[1]\n",
    "    \n",
    "    if LP is not None:\n",
    "        LP_text = tess.image_to_string(LP, config=options)\n",
    "        license_chars.append(LP_text)"
   ]
  },
  {
   "cell_type": "code",
   "execution_count": 14,
   "metadata": {},
   "outputs": [],
   "source": [
    "result_1 = pd.DataFrame(columns=['Filename', 'LicenseChars'])\n",
    "result_1['Filename'] = filenames\n",
    "result_1['LicenseChars'] = license_chars\n",
    "\n",
    "result_1.to_csv('result_1.csv', index=False)"
   ]
  },
  {
   "cell_type": "markdown",
   "metadata": {},
   "source": [
    "### Question 7: From result_1.csv, add 1 new column \"Letters-Only\" to check if the license plate contain letters only or both letters and digits. Save this into a new csv file."
   ]
  },
  {
   "cell_type": "code",
   "execution_count": 15,
   "metadata": {},
   "outputs": [],
   "source": [
    "result_2 = pd.read_csv('result_1.csv')\n",
    "check = []\n",
    "\n",
    "for i in license_chars:\n",
    "    if any(map(str.isdigit, i)):\n",
    "        check.append(False)\n",
    "    else:\n",
    "        check.append(True)\n",
    "        \n",
    "result_2['Letters-Only'] = check\n",
    "result_2.to_csv('result_2.csv', index=False)"
   ]
  },
  {
   "cell_type": "markdown",
   "metadata": {},
   "source": [
    "### Question 8: Create a new column called \"points\" with the unit digit of sum of the all digits."
   ]
  },
  {
   "cell_type": "code",
   "execution_count": 16,
   "metadata": {},
   "outputs": [],
   "source": [
    "result_3 = pd.read_csv('result_2.csv')\n",
    "points = []\n",
    "\n",
    "for i in range(len(result_3)):\n",
    "    row = result_3.iloc[i]\n",
    "    if row['Letters-Only'] == True:\n",
    "        points.append(0)\n",
    "    else:\n",
    "        points.append(calc_points(row['LicenseChars']))\n",
    "        \n",
    "result_3['Points'] = points\n",
    "result_3.to_csv('result_3.csv', index=False)"
   ]
  },
  {
   "cell_type": "markdown",
   "metadata": {},
   "source": [
    "### Question 9: Create a new column called \"lucky\". A license plate is \"lucky\" if it has progressive numbers in sequence and more than 5 points."
   ]
  },
  {
   "cell_type": "code",
   "execution_count": 17,
   "metadata": {},
   "outputs": [],
   "source": [
    "result_4 = pd.read_csv('result_3.csv')\n",
    "lucky = []\n",
    "\n",
    "for i in range(len(result_4)):\n",
    "    row = result_3.iloc[i]\n",
    "    point = row['Points']\n",
    "    if point >= 5:\n",
    "        lucky.append(check_lucky(row['LicenseChars']))\n",
    "    else:\n",
    "        lucky.append(False)\n",
    "        \n",
    "result_4['Lucky'] = lucky\n",
    "result_4.to_csv('result_4.csv', index=False)"
   ]
  },
  {
   "cell_type": "markdown",
   "metadata": {},
   "source": [
    "### Question 10: User enters a desired point. Randomly give the user 1 license plate with that point (\"lucky\" is preferable)."
   ]
  },
  {
   "cell_type": "code",
   "execution_count": 19,
   "metadata": {},
   "outputs": [
    {
     "name": "stdout",
     "output_type": "stream",
     "text": [
      "Enter you desired point of the car license plate: 6\n",
      "This is (your car) with suitable license plate:\n"
     ]
    },
    {
     "data": {
      "image/png": "[encoded data removed]",
      "text/plain": [
       "<Figure size 432x288 with 1 Axes>"
      ]
     },
     "metadata": {
      "needs_background": "light"
     },
     "output_type": "display_data"
    }
   ],
   "source": [
    "import random\n",
    "\n",
    "desired = int(input('Enter you desired point of the car license plate: '))\n",
    "\n",
    "options = pd.read_csv('result_4.csv')\n",
    "options = options[options['Points'] == desired]\n",
    "\n",
    "if len(options) == 0:\n",
    "    print('Sorry, we do not have your desired point!')\n",
    "else:\n",
    "    lucky_options = options[options['Lucky'] == True]\n",
    "    if len(lucky_options) == 0:\n",
    "        filename = options.sample()['Filename'].item()\n",
    "    else:\n",
    "        filename = lucky_options.sample()['Filename'].item()\n",
    "        \n",
    "    path = './dataset/' + filename\n",
    "    option = imread(path)\n",
    "    print('This is (your car) with suitable license plate:')\n",
    "    imshow(option)"
   ]
  }
 ],
 "metadata": {
  "kernelspec": {
   "display_name": "PyCharm (Intro_CompSci)",
   "language": "python",
   "name": "pycharm-74bda172"
  },
  "language_info": {
   "codemirror_mode": {
    "name": "ipython",
    "version": 3
   },
   "file_extension": ".py",
   "mimetype": "text/x-python",
   "name": "python",
   "nbconvert_exporter": "python",
   "pygments_lexer": "ipython3",
   "version": "3.8.5"
  }
 },
 "nbformat": 4,
 "nbformat_minor": 4
}
